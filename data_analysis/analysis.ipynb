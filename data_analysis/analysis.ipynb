{
 "cells": [
  {
   "cell_type": "code",
   "execution_count": 1,
   "metadata": {},
   "outputs": [],
   "source": [
    "import pandas as pd\n",
    "import matplotlib.pyplot as plt\n",
    "import plotly.express as px"
   ]
  },
  {
   "cell_type": "markdown",
   "metadata": {},
   "source": [
    "# Loading Data"
   ]
  },
  {
   "cell_type": "code",
   "execution_count": 2,
   "metadata": {},
   "outputs": [],
   "source": [
    "dropout = pd.read_csv('../datasets/dropout-ratio.csv')\n",
    "enroll = pd.read_csv('../datasets/enrollment-ratio.csv')\n",
    "comps = pd.read_csv('../datasets/percentage-of-schools-with-comps.csv')\n",
    "electricity = pd.read_csv('../datasets/percentage-of-schools-with-electricity.csv')\n",
    "water = pd.read_csv('../datasets/percentage-of-schools-with-water-facility.csv')\n",
    "boys_toilet = pd.read_csv('../datasets/schools-with-boys-toilet.csv')\n",
    "girls_toilet = pd.read_csv('../datasets/schools-with-girls-toilet.csv')"
   ]
  },
  {
   "cell_type": "code",
   "execution_count": 3,
   "metadata": {},
   "outputs": [],
   "source": [
    "dropout.set_index('State_UT', inplace=True)\n",
    "electricity.set_index('State_UT',inplace=True)\n",
    "enroll.set_index('State_UT', inplace=True)\n",
    "comps.set_index('State_UT',inplace=True)\n",
    "water.set_index('State/UT', inplace=True)\n",
    "boys_toilet.set_index('State_UT',inplace=True)\n",
    "girls_toilet.set_index('State_UT',inplace=True)"
   ]
  },
  {
   "cell_type": "code",
   "execution_count": null,
   "metadata": {},
   "outputs": [],
   "source": []
  }
 ],
 "metadata": {
  "interpreter": {
   "hash": "d62006d1f3422635846181a997a61e8ec3049f797e5d7dfe0cd1bb84092b7c19"
  },
  "kernelspec": {
   "display_name": "Python 3.9.7 64-bit",
   "language": "python",
   "name": "python3"
  },
  "language_info": {
   "codemirror_mode": {
    "name": "ipython",
    "version": 3
   },
   "file_extension": ".py",
   "mimetype": "text/x-python",
   "name": "python",
   "nbconvert_exporter": "python",
   "pygments_lexer": "ipython3",
   "version": "3.9.7"
  },
  "orig_nbformat": 4
 },
 "nbformat": 4,
 "nbformat_minor": 2
}
