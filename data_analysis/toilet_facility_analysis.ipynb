{
 "cells": [
  {
   "cell_type": "code",
   "execution_count": 1,
   "metadata": {},
   "outputs": [],
   "source": [
    "import pandas as pd\n",
    "import matplotlib.pyplot as plt\n",
    "import seaborn as sns\n",
    "import plotly.express as px\n",
    "import numpy as np"
   ]
  },
  {
   "cell_type": "code",
   "execution_count": 2,
   "metadata": {},
   "outputs": [],
   "source": [
    "sm, md, lg = 12,9,10\n",
    "plt.rc('font', size=sm)\n",
    "plt.rc('axes', labelsize=sm)\n",
    "plt.rc('xtick', labelsize=md)\n",
    "plt.rc('ytick', labelsize=md)\n",
    "plt.rc('legend', fontsize=md)\n",
    "plt.rc('figure', titlesize=lg)"
   ]
  },
  {
   "cell_type": "markdown",
   "metadata": {},
   "source": [
    "# Loading Data"
   ]
  },
  {
   "cell_type": "code",
   "execution_count": 3,
   "metadata": {},
   "outputs": [],
   "source": [
    "boys = pd.read_csv('../datasets//schools-with-boys-toilet.csv')\n",
    "girls = pd.read_csv('../datasets/schools-with-girls-toilet.csv')"
   ]
  },
  {
   "cell_type": "code",
   "execution_count": 4,
   "metadata": {},
   "outputs": [
    {
     "data": {
      "text/plain": [
       "(37, 37)"
      ]
     },
     "execution_count": 4,
     "metadata": {},
     "output_type": "execute_result"
    }
   ],
   "source": [
    "boys.State_UT.nunique(), girls.State_UT.nunique()"
   ]
  },
  {
   "cell_type": "code",
   "execution_count": null,
   "metadata": {},
   "outputs": [],
   "source": [
    "boys.head()"
   ]
  },
  {
   "cell_type": "code",
   "execution_count": 6,
   "metadata": {},
   "outputs": [],
   "source": [
    "boys_melt = pd.melt(boys, id_vars=['State_UT', 'year'], var_name='School_Level', value_name = 'toilet')\n",
    "girls_melt = pd.melt(girls, id_vars=['State_UT', 'year'], var_name='School_Level', value_name = 'toilet')"
   ]
  },
  {
   "cell_type": "code",
   "execution_count": 7,
   "metadata": {},
   "outputs": [
    {
     "data": {
      "text/html": [
       "<div>\n",
       "<style scoped>\n",
       "    .dataframe tbody tr th:only-of-type {\n",
       "        vertical-align: middle;\n",
       "    }\n",
       "\n",
       "    .dataframe tbody tr th {\n",
       "        vertical-align: top;\n",
       "    }\n",
       "\n",
       "    .dataframe thead th {\n",
       "        text-align: right;\n",
       "    }\n",
       "</style>\n",
       "<table border=\"1\" class=\"dataframe\">\n",
       "  <thead>\n",
       "    <tr style=\"text-align: right;\">\n",
       "      <th></th>\n",
       "      <th>State_UT</th>\n",
       "      <th>year</th>\n",
       "      <th>School_Level</th>\n",
       "      <th>toilet</th>\n",
       "    </tr>\n",
       "  </thead>\n",
       "  <tbody>\n",
       "    <tr>\n",
       "      <th>0</th>\n",
       "      <td>Andaman &amp; Nicobar Islands</td>\n",
       "      <td>2013-14</td>\n",
       "      <td>Primary_Only</td>\n",
       "      <td>91.58</td>\n",
       "    </tr>\n",
       "    <tr>\n",
       "      <th>1</th>\n",
       "      <td>Andaman &amp; Nicobar Islands</td>\n",
       "      <td>2014-15</td>\n",
       "      <td>Primary_Only</td>\n",
       "      <td>100.00</td>\n",
       "    </tr>\n",
       "    <tr>\n",
       "      <th>2</th>\n",
       "      <td>Andaman &amp; Nicobar Islands</td>\n",
       "      <td>2015-16</td>\n",
       "      <td>Primary_Only</td>\n",
       "      <td>100.00</td>\n",
       "    </tr>\n",
       "    <tr>\n",
       "      <th>3</th>\n",
       "      <td>Andhra Pradesh</td>\n",
       "      <td>2013-14</td>\n",
       "      <td>Primary_Only</td>\n",
       "      <td>53.03</td>\n",
       "    </tr>\n",
       "    <tr>\n",
       "      <th>4</th>\n",
       "      <td>Andhra Pradesh</td>\n",
       "      <td>2014-15</td>\n",
       "      <td>Primary_Only</td>\n",
       "      <td>57.91</td>\n",
       "    </tr>\n",
       "  </tbody>\n",
       "</table>\n",
       "</div>"
      ],
      "text/plain": [
       "                    State_UT     year  School_Level  toilet\n",
       "0  Andaman & Nicobar Islands  2013-14  Primary_Only   91.58\n",
       "1  Andaman & Nicobar Islands  2014-15  Primary_Only  100.00\n",
       "2  Andaman & Nicobar Islands  2015-16  Primary_Only  100.00\n",
       "3             Andhra Pradesh  2013-14  Primary_Only   53.03\n",
       "4             Andhra Pradesh  2014-15  Primary_Only   57.91"
      ]
     },
     "execution_count": 7,
     "metadata": {},
     "output_type": "execute_result"
    }
   ],
   "source": [
    "boys_melt.head()"
   ]
  },
  {
   "cell_type": "code",
   "execution_count": 8,
   "metadata": {},
   "outputs": [
    {
     "data": {
      "text/plain": [
       "['U_Primary_Only',\n",
       " 'U_Primary_With_Sec_HrSec',\n",
       " 'Primary_with_U_Primary_Sec',\n",
       " 'U_Primary_With_Sec',\n",
       " 'Sec_Only',\n",
       " 'Sec_with_HrSec.',\n",
       " 'HrSec_Only',\n",
       " 'All Schools']"
      ]
     },
     "execution_count": 8,
     "metadata": {},
     "output_type": "execute_result"
    }
   ],
   "source": [
    "categ = boys.columns.to_list()[5:] # All student category type in a list\n",
    "categ"
   ]
  },
  {
   "cell_type": "markdown",
   "metadata": {},
   "source": [
    "# Toilet Facilities for Boys in all Student Categories"
   ]
  },
  {
   "cell_type": "code",
   "execution_count": null,
   "metadata": {},
   "outputs": [],
   "source": [
    "for category in categ:\n",
    "    tmp_boys = boys_melt[boys_melt['School_Level'] == category]\n",
    "    mean_tmp_boys = tmp_boys.groupby(['State_UT'], as_index=False).mean()\n",
    "    mean_tmp_boys.set_index('State_UT').sort_values('toilet').plot(kind='bar', figsize=(26,11), title ='Total of {} Schools Category Students with boys Toilet Facilities'.format(category))\n",
    "    tmp_highest = mean_tmp_boys.iloc[np.where(mean_tmp_boys['toilet'] == 100)].State_UT.to_list()\n",
    "    tmp_lowest = mean_tmp_boys.iloc[mean_tmp_boys.toilet.idxmin()].State_UT\n",
    "    \n",
    "    if len(tmp_highest) == 1: impression = 'not bad'\n",
    "    elif  len(tmp_highest) == 2: impression = 'okay'\n",
    "    elif  len(tmp_highest) == 3: impression = 'impressive'\n",
    "    else: impression = 'very impressive'\n",
    "        \n",
    "    if len(tmp_highest) > 4:\n",
    "        tmp_highest = tmp_highest[0] + ' and {} other states'.format(len(tmp_highest)) # In the case when we have to many states that have 100 toilet facilities and can't display all\n",
    "    \n",
    "    info = 'From the bar chart above we can see that {} state has the least toilet facilities for boys while `{}` state(s) have the most toilet facilities of 100 for boys and that is {} statistics'.format(tmp_lowest, tmp_highest, impression)\n",
    "    plt.text(x=-1, y=-45 , s = info, bbox=dict(facecolor='red', alpha=0.1))"
   ]
  },
  {
   "cell_type": "markdown",
   "metadata": {},
   "source": [
    "# Toilet Facilities for Girls in all Student Categories"
   ]
  },
  {
   "cell_type": "code",
   "execution_count": 10,
   "metadata": {},
   "outputs": [
    {
     "data": {
      "text/html": [
       "<div>\n",
       "<style scoped>\n",
       "    .dataframe tbody tr th:only-of-type {\n",
       "        vertical-align: middle;\n",
       "    }\n",
       "\n",
       "    .dataframe tbody tr th {\n",
       "        vertical-align: top;\n",
       "    }\n",
       "\n",
       "    .dataframe thead th {\n",
       "        text-align: right;\n",
       "    }\n",
       "</style>\n",
       "<table border=\"1\" class=\"dataframe\">\n",
       "  <thead>\n",
       "    <tr style=\"text-align: right;\">\n",
       "      <th></th>\n",
       "      <th>State_UT</th>\n",
       "      <th>year</th>\n",
       "      <th>School_Level</th>\n",
       "      <th>toilet</th>\n",
       "    </tr>\n",
       "  </thead>\n",
       "  <tbody>\n",
       "    <tr>\n",
       "      <th>0</th>\n",
       "      <td>All India</td>\n",
       "      <td>2013-14</td>\n",
       "      <td>Primary_Only</td>\n",
       "      <td>88.68</td>\n",
       "    </tr>\n",
       "    <tr>\n",
       "      <th>1</th>\n",
       "      <td>All India</td>\n",
       "      <td>2014-15</td>\n",
       "      <td>Primary_Only</td>\n",
       "      <td>91.21</td>\n",
       "    </tr>\n",
       "    <tr>\n",
       "      <th>2</th>\n",
       "      <td>All India</td>\n",
       "      <td>2015-16</td>\n",
       "      <td>Primary_Only</td>\n",
       "      <td>96.95</td>\n",
       "    </tr>\n",
       "    <tr>\n",
       "      <th>3</th>\n",
       "      <td>Andaman &amp; Nicobar Islands</td>\n",
       "      <td>2013-14</td>\n",
       "      <td>Primary_Only</td>\n",
       "      <td>89.74</td>\n",
       "    </tr>\n",
       "    <tr>\n",
       "      <th>4</th>\n",
       "      <td>Andaman &amp; Nicobar Islands</td>\n",
       "      <td>2014-15</td>\n",
       "      <td>Primary_Only</td>\n",
       "      <td>100.00</td>\n",
       "    </tr>\n",
       "  </tbody>\n",
       "</table>\n",
       "</div>"
      ],
      "text/plain": [
       "                    State_UT     year  School_Level  toilet\n",
       "0                  All India  2013-14  Primary_Only   88.68\n",
       "1                  All India  2014-15  Primary_Only   91.21\n",
       "2                  All India  2015-16  Primary_Only   96.95\n",
       "3  Andaman & Nicobar Islands  2013-14  Primary_Only   89.74\n",
       "4  Andaman & Nicobar Islands  2014-15  Primary_Only  100.00"
      ]
     },
     "execution_count": 10,
     "metadata": {},
     "output_type": "execute_result"
    }
   ],
   "source": [
    "girls_melt.head()"
   ]
  },
  {
   "cell_type": "code",
   "execution_count": null,
   "metadata": {},
   "outputs": [],
   "source": [
    "for category in categ:\n",
    "    tmp_girls = girls_melt[girls_melt['School_Level'] == category]\n",
    "    mean_tmp_girls = tmp_girls.groupby(['State_UT'], as_index=False).mean()\n",
    "    mean_tmp_girls.set_index('State_UT').sort_values('toilet').plot(kind='bar', figsize=(26,11), title ='Total of {} Schools Category Students with girls Toilet Facilities'.format(category))\n",
    "    tmp_highest = mean_tmp_girls.iloc[np.where(mean_tmp_girls['toilet'] == 100)].State_UT.to_list()\n",
    "    tmp_lowest = mean_tmp_girls.iloc[mean_tmp_girls.toilet.idxmin()].State_UT\n",
    "    \n",
    "    if len(tmp_highest) == 1: impression = 'not bad'\n",
    "    elif  len(tmp_highest) == 2: impression = 'okay'\n",
    "    elif  len(tmp_highest) == 3: impression = 'impressive'\n",
    "    else: impression = 'very impressive'\n",
    "        \n",
    "    if len(tmp_highest) > 4:\n",
    "        tmp_highest = tmp_highest[0] + ' and {} other states'.format(len(tmp_highest))\n",
    "    \n",
    "    info = 'From the bar chart above we can see that{} state has the least toilet facilities for girls while `{}`states have the most toilet facilities of 100 for girls and that is {} statistics'.format(tmp_lowest, tmp_highest, impression)\n",
    "    plt.text(x=-1, y=-45 , s = info, bbox=dict(facecolor='red', alpha=0.1))"
   ]
  },
  {
   "cell_type": "code",
   "execution_count": 12,
   "metadata": {},
   "outputs": [],
   "source": [
    "boys_2013 = boys_melt.iloc[np.where(boys_melt.year=='2013-14')]"
   ]
  },
  {
   "cell_type": "code",
   "execution_count": 13,
   "metadata": {},
   "outputs": [
    {
     "data": {
      "text/html": [
       "<div>\n",
       "<style scoped>\n",
       "    .dataframe tbody tr th:only-of-type {\n",
       "        vertical-align: middle;\n",
       "    }\n",
       "\n",
       "    .dataframe tbody tr th {\n",
       "        vertical-align: top;\n",
       "    }\n",
       "\n",
       "    .dataframe thead th {\n",
       "        text-align: right;\n",
       "    }\n",
       "</style>\n",
       "<table border=\"1\" class=\"dataframe\">\n",
       "  <thead>\n",
       "    <tr style=\"text-align: right;\">\n",
       "      <th></th>\n",
       "      <th>State_UT</th>\n",
       "      <th>year</th>\n",
       "      <th>School_Level</th>\n",
       "      <th>toilet</th>\n",
       "    </tr>\n",
       "  </thead>\n",
       "  <tbody>\n",
       "    <tr>\n",
       "      <th>0</th>\n",
       "      <td>Andaman &amp; Nicobar Islands</td>\n",
       "      <td>2013-14</td>\n",
       "      <td>Primary_Only</td>\n",
       "      <td>91.58</td>\n",
       "    </tr>\n",
       "    <tr>\n",
       "      <th>3</th>\n",
       "      <td>Andhra Pradesh</td>\n",
       "      <td>2013-14</td>\n",
       "      <td>Primary_Only</td>\n",
       "      <td>53.03</td>\n",
       "    </tr>\n",
       "  </tbody>\n",
       "</table>\n",
       "</div>"
      ],
      "text/plain": [
       "                    State_UT     year  School_Level  toilet\n",
       "0  Andaman & Nicobar Islands  2013-14  Primary_Only   91.58\n",
       "3             Andhra Pradesh  2013-14  Primary_Only   53.03"
      ]
     },
     "execution_count": 13,
     "metadata": {},
     "output_type": "execute_result"
    }
   ],
   "source": [
    "boys_2013.head(2)"
   ]
  },
  {
   "cell_type": "code",
   "execution_count": 14,
   "metadata": {},
   "outputs": [
    {
     "data": {
      "text/plain": [
       "(396, 4)"
      ]
     },
     "execution_count": 14,
     "metadata": {},
     "output_type": "execute_result"
    }
   ],
   "source": [
    "boys_2013.shape"
   ]
  },
  {
   "cell_type": "code",
   "execution_count": null,
   "metadata": {},
   "outputs": [],
   "source": [
    "boys_2013.groupby(['School_Level']).mean().sort_values(by='toilet').plot(kind='bar',\n",
    "figsize=(20,8),title = 'Toilet Failities for boys in all School Categories in 2013-14 session')"
   ]
  },
  {
   "cell_type": "code",
   "execution_count": null,
   "metadata": {},
   "outputs": [],
   "source": [
    "boys_2014 = boys_melt.iloc[np.where(boys_melt.year=='2014-15')]\n",
    "boys_2014.head(2)\n",
    "boys_2014.shape\n",
    "\n",
    "\n",
    "boys_2014.groupby(['School_Level']).mean().sort_values(by='toilet').plot(kind='bar',\n",
    "figsize=(20,8),title = 'Toilet Failities for boys in all School Categories in 2014-15 session')"
   ]
  },
  {
   "cell_type": "code",
   "execution_count": null,
   "metadata": {},
   "outputs": [],
   "source": [
    "boys_2015 = boys_melt.iloc[np.where(boys_melt.year == '2015-16')]\n",
    "boys_2015.head(3)\n",
    "boys_2015.shape\n",
    "\n",
    "boys_2015.groupby(['School_Level']).mean().sort_values(by = 'toilet').plot( kind = 'bar',\n",
    "figsize = (20,8), title=' Toilet Failities for boys in all School Categories in 2015-16 session')"
   ]
  },
  {
   "cell_type": "code",
   "execution_count": null,
   "metadata": {},
   "outputs": [],
   "source": [
    "girls_2013 = girls_melt.iloc[np.where(girls_melt.year == '2013-14')]\n",
    "girls_2013.head(3)\n",
    "girls_2013.shape\n",
    "\n",
    "girls_2013.groupby(['School_Level']).mean().sort_values(by = 'toilet').plot(kind = 'bar',\n",
    "figsize = (22,8),title = 'Toilet Facilities for girls in all School Categories in 2013-14 session')"
   ]
  },
  {
   "cell_type": "code",
   "execution_count": null,
   "metadata": {},
   "outputs": [],
   "source": [
    "girls_2014 = girls_melt.iloc[np.where(girls_melt.year=='2014-15')]\n",
    "\n",
    "girls_2014.head(3)\n",
    "girls_2014.shape\n",
    "\n",
    "girls_2014.groupby(['School_Level']).mean().sort_values(by='toilet').plot(kind='bar',\n",
    "figsize=(20,8), title = 'Toilet Facilities for girls in all School Categories in 2014-15 session')"
   ]
  },
  {
   "cell_type": "code",
   "execution_count": null,
   "metadata": {},
   "outputs": [],
   "source": [
    "girls_2015 = girls_melt.iloc[np.where(girls_melt.year =='2015-16' )]\n",
    "girls_2015.head(3)\n",
    "girls_2015.shape\n",
    "\n",
    "girls_2015.groupby(['School_Level']).mean().sort_values(by = 'toilet').plot(kind= 'bar',\n",
    "figsize= (20,8), title = 'Toilet Failities for girls in all School Categories in 2015-16 session')"
   ]
  },
  {
   "cell_type": "code",
   "execution_count": null,
   "metadata": {},
   "outputs": [],
   "source": [
    "boys_melt.groupby(['State_UT'])['toilet'].mean().sort_values().plot(kind = 'bar',\n",
    "figsize = (22,8)  , title = 'Toilet Facilities for boys in all States for the 3 sessions')"
   ]
  },
  {
   "cell_type": "code",
   "execution_count": null,
   "metadata": {},
   "outputs": [],
   "source": [
    "girls_melt.groupby(['State_UT'])['toilet'].mean().sort_values().plot(kind = 'bar' ,\n",
    " figsize = (22,8), title = 'Toilet Failities for girls in all States for the 3 sessions')"
   ]
  },
  {
   "cell_type": "code",
   "execution_count": null,
   "metadata": {},
   "outputs": [],
   "source": []
  }
 ],
 "metadata": {
  "interpreter": {
   "hash": "d62006d1f3422635846181a997a61e8ec3049f797e5d7dfe0cd1bb84092b7c19"
  },
  "kernelspec": {
   "display_name": "Python 3.9.7 64-bit",
   "language": "python",
   "name": "python3"
  },
  "language_info": {
   "codemirror_mode": {
    "name": "ipython",
    "version": 3
   },
   "file_extension": ".py",
   "mimetype": "text/x-python",
   "name": "python",
   "nbconvert_exporter": "python",
   "pygments_lexer": "ipython3",
   "version": "3.9.7"
  },
  "orig_nbformat": 4
 },
 "nbformat": 4,
 "nbformat_minor": 2
}
